{
 "cells": [
  {
   "cell_type": "markdown",
   "metadata": {},
   "source": [
    "# Setup"
   ]
  },
  {
   "cell_type": "code",
   "execution_count": 1,
   "metadata": {},
   "outputs": [],
   "source": [
    "from dataclasses import dataclass\n"
   ]
  },
  {
   "cell_type": "code",
   "execution_count": 2,
   "metadata": {},
   "outputs": [
    {
     "name": "stdout",
     "output_type": "stream",
     "text": [
      "Requirement already satisfied: numpy-financial in c:\\users\\tcham\\anaconda3.1\\lib\\site-packages (1.0.0)\n",
      "Requirement already satisfied: numpy>=1.15 in c:\\users\\tcham\\anaconda3.1\\lib\\site-packages (from numpy-financial) (1.26.4)\n"
     ]
    }
   ],
   "source": [
    "!pip install numpy-financial "
   ]
  },
  {
   "cell_type": "markdown",
   "metadata": {},
   "source": [
    "# Inputs\n",
    "\n",
    "Some inputs were given in the problem definition. List those here."
   ]
  },
  {
   "cell_type": "code",
   "execution_count": 31,
   "metadata": {},
   "outputs": [
    {
     "data": {
      "text/plain": [
       "ModelInputs(bond_years=15, bond_coupon=0.0525, bond_price=130.58, bond_par=100, risk_free=0.005, price=119.51, shares_outstanding=2850000000, libor_rate=0.0196, sp_500_file='SP500 Prices.xlsx', stock_prices_file='WMT Prices.xlsx', stock_ticker='WMT', balance_sheet_file='WMT Balance Sheet.xlsx', income_statement_file='WMT Income Statement.xlsx', mv_debt_details_file='WMT Debt Details.xls')"
      ]
     },
     "execution_count": 31,
     "metadata": {},
     "output_type": "execute_result"
    }
   ],
   "source": [
    "# Do not remove or modify any existing input names, though new inputs can be added\n",
    "@dataclass\n",
    "class ModelInputs:\n",
    "    bond_years: int = 15\n",
    "    bond_coupon: float = .0525\n",
    "    bond_price: float = 130.58\n",
    "    bond_par: float = 100\n",
    "    risk_free: float = 0.005\n",
    "    price: float = 119.51\n",
    "    shares_outstanding: int = 2850000000\n",
    "    libor_rate: float = 0.0196\n",
    "    sp_500_file: str = 'SP500 Prices.xlsx'\n",
    "    stock_prices_file: str = 'WMT Prices.xlsx'\n",
    "    stock_ticker: str = 'WMT'\n",
    "    balance_sheet_file: str = 'WMT Balance Sheet.xlsx'\n",
    "    income_statement_file: str = 'WMT Income Statement.xlsx'\n",
    "    mv_debt_details_file: str = 'WMT Debt Details.xls'\n",
    "        \n",
    "        \n",
    "@dataclass\n",
    "class SimulationInputs:\n",
    "    num_iter: int = 10000\n",
    "    beta_std: float = 0.2\n",
    "    mkt_ret_std: float = 0.03\n",
    "    bond_price_std: float = 30\n",
    "    tax_rate_std: float = 0.05\n",
    "\n",
    "model_data = ModelInputs()\n",
    "sim_data = SimulationInputs()\n",
    "data = model_data\n",
    "data \n"
   ]
  },
  {
   "cell_type": "code",
   "execution_count": null,
   "metadata": {},
   "outputs": [],
   "source": []
  },
  {
   "cell_type": "code",
   "execution_count": 4,
   "metadata": {},
   "outputs": [],
   "source": [
    "# Add your model logic, sections, and as many cells as you want here."
   ]
  },
  {
   "cell_type": "code",
   "execution_count": 32,
   "metadata": {},
   "outputs": [
    {
     "data": {
      "text/html": [
       "<div>\n",
       "<style scoped>\n",
       "    .dataframe tbody tr th:only-of-type {\n",
       "        vertical-align: middle;\n",
       "    }\n",
       "\n",
       "    .dataframe tbody tr th {\n",
       "        vertical-align: top;\n",
       "    }\n",
       "\n",
       "    .dataframe thead th {\n",
       "        text-align: right;\n",
       "    }\n",
       "</style>\n",
       "<table border=\"1\" class=\"dataframe\">\n",
       "  <thead>\n",
       "    <tr style=\"text-align: right;\">\n",
       "      <th></th>\n",
       "      <th>Market Returns</th>\n",
       "      <th>Asset Returns</th>\n",
       "    </tr>\n",
       "  </thead>\n",
       "  <tbody>\n",
       "    <tr>\n",
       "      <th>0</th>\n",
       "      <td>2031.209961</td>\n",
       "      <td>68.586304</td>\n",
       "    </tr>\n",
       "    <tr>\n",
       "      <th>1</th>\n",
       "      <td>2031.920044</td>\n",
       "      <td>69.432503</td>\n",
       "    </tr>\n",
       "    <tr>\n",
       "      <th>2</th>\n",
       "      <td>2038.260010</td>\n",
       "      <td>70.023087</td>\n",
       "    </tr>\n",
       "    <tr>\n",
       "      <th>3</th>\n",
       "      <td>2039.680054</td>\n",
       "      <td>69.644073</td>\n",
       "    </tr>\n",
       "    <tr>\n",
       "      <th>4</th>\n",
       "      <td>2038.250000</td>\n",
       "      <td>69.811539</td>\n",
       "    </tr>\n",
       "  </tbody>\n",
       "</table>\n",
       "</div>"
      ],
      "text/plain": [
       "   Market Returns  Asset Returns\n",
       "0     2031.209961      68.586304\n",
       "1     2031.920044      69.432503\n",
       "2     2038.260010      70.023087\n",
       "3     2039.680054      69.644073\n",
       "4     2038.250000      69.811539"
      ]
     },
     "execution_count": 32,
     "metadata": {},
     "output_type": "execute_result"
    }
   ],
   "source": [
    "import pandas as pd \n",
    "df = pd.read_excel('Walmartdata (1).xlsx')\n",
    "df.head()"
   ]
  },
  {
   "cell_type": "markdown",
   "metadata": {},
   "source": [
    "We will now convert the prices into returns "
   ]
  },
  {
   "cell_type": "code",
   "execution_count": 6,
   "metadata": {},
   "outputs": [
    {
     "data": {
      "text/html": [
       "<div>\n",
       "<style scoped>\n",
       "    .dataframe tbody tr th:only-of-type {\n",
       "        vertical-align: middle;\n",
       "    }\n",
       "\n",
       "    .dataframe tbody tr th {\n",
       "        vertical-align: top;\n",
       "    }\n",
       "\n",
       "    .dataframe thead th {\n",
       "        text-align: right;\n",
       "    }\n",
       "</style>\n",
       "<table border=\"1\" class=\"dataframe\">\n",
       "  <thead>\n",
       "    <tr style=\"text-align: right;\">\n",
       "      <th></th>\n",
       "      <th>Market Returns</th>\n",
       "      <th>Asset Returns</th>\n",
       "    </tr>\n",
       "  </thead>\n",
       "  <tbody>\n",
       "    <tr>\n",
       "      <th>0</th>\n",
       "      <td>NaN</td>\n",
       "      <td>NaN</td>\n",
       "    </tr>\n",
       "    <tr>\n",
       "      <th>1</th>\n",
       "      <td>0.000350</td>\n",
       "      <td>0.012338</td>\n",
       "    </tr>\n",
       "    <tr>\n",
       "      <th>2</th>\n",
       "      <td>0.003120</td>\n",
       "      <td>0.008506</td>\n",
       "    </tr>\n",
       "    <tr>\n",
       "      <th>3</th>\n",
       "      <td>0.000697</td>\n",
       "      <td>-0.005413</td>\n",
       "    </tr>\n",
       "    <tr>\n",
       "      <th>4</th>\n",
       "      <td>-0.000701</td>\n",
       "      <td>0.002405</td>\n",
       "    </tr>\n",
       "  </tbody>\n",
       "</table>\n",
       "</div>"
      ],
      "text/plain": [
       "   Market Returns  Asset Returns\n",
       "0             NaN            NaN\n",
       "1        0.000350       0.012338\n",
       "2        0.003120       0.008506\n",
       "3        0.000697      -0.005413\n",
       "4       -0.000701       0.002405"
      ]
     },
     "execution_count": 6,
     "metadata": {},
     "output_type": "execute_result"
    }
   ],
   "source": [
    "returns = df.pct_change()\n",
    "returns.head()"
   ]
  },
  {
   "cell_type": "markdown",
   "metadata": {},
   "source": [
    "## Calculating the Market Risk Premium\n",
    "\n",
    "We are ultimately going to be running a regression to determine $\\beta$. We can think of a standard regression line as following the equation: $$y = a + bx$$ We can put the CAPM in this format if we assume $\\epsilon$ is zero, then treat $r_i$ as $y$, $r_f$ as $a$, and $(r_m - r_f)$ as $x$. Therefore we need to calculate the market risk premium (MRP), $(r_m - r_f)$, to use in the regression. \n",
    "\n",
    "From the problem, the risk free rate is 3%. So just subtract that from the market returns to get the MRP."
   ]
  },
  {
   "cell_type": "code",
   "execution_count": 7,
   "metadata": {},
   "outputs": [
    {
     "data": {
      "text/html": [
       "<div>\n",
       "<style scoped>\n",
       "    .dataframe tbody tr th:only-of-type {\n",
       "        vertical-align: middle;\n",
       "    }\n",
       "\n",
       "    .dataframe tbody tr th {\n",
       "        vertical-align: top;\n",
       "    }\n",
       "\n",
       "    .dataframe thead th {\n",
       "        text-align: right;\n",
       "    }\n",
       "</style>\n",
       "<table border=\"1\" class=\"dataframe\">\n",
       "  <thead>\n",
       "    <tr style=\"text-align: right;\">\n",
       "      <th></th>\n",
       "      <th>Market Returns</th>\n",
       "      <th>Asset Returns</th>\n",
       "      <th>MRP</th>\n",
       "    </tr>\n",
       "  </thead>\n",
       "  <tbody>\n",
       "    <tr>\n",
       "      <th>0</th>\n",
       "      <td>NaN</td>\n",
       "      <td>NaN</td>\n",
       "      <td>NaN</td>\n",
       "    </tr>\n",
       "    <tr>\n",
       "      <th>1</th>\n",
       "      <td>0.000350</td>\n",
       "      <td>0.012338</td>\n",
       "      <td>0.000330</td>\n",
       "    </tr>\n",
       "    <tr>\n",
       "      <th>2</th>\n",
       "      <td>0.003120</td>\n",
       "      <td>0.008506</td>\n",
       "      <td>0.003100</td>\n",
       "    </tr>\n",
       "    <tr>\n",
       "      <th>3</th>\n",
       "      <td>0.000697</td>\n",
       "      <td>-0.005413</td>\n",
       "      <td>0.000677</td>\n",
       "    </tr>\n",
       "    <tr>\n",
       "      <th>4</th>\n",
       "      <td>-0.000701</td>\n",
       "      <td>0.002405</td>\n",
       "      <td>-0.000721</td>\n",
       "    </tr>\n",
       "  </tbody>\n",
       "</table>\n",
       "</div>"
      ],
      "text/plain": [
       "   Market Returns  Asset Returns       MRP\n",
       "0             NaN            NaN       NaN\n",
       "1        0.000350       0.012338  0.000330\n",
       "2        0.003120       0.008506  0.003100\n",
       "3        0.000697      -0.005413  0.000677\n",
       "4       -0.000701       0.002405 -0.000721"
      ]
     },
     "execution_count": 7,
     "metadata": {},
     "output_type": "execute_result"
    }
   ],
   "source": [
    "risk_free = data.risk_free / 252\n",
    "returns['MRP'] = returns['Market Returns'] - risk_free\n",
    "returns.head()"
   ]
  },
  {
   "cell_type": "markdown",
   "metadata": {},
   "source": [
    "We will now calculate the Beta. "
   ]
  },
  {
   "cell_type": "code",
   "execution_count": 8,
   "metadata": {},
   "outputs": [
    {
     "data": {
      "text/html": [
       "<div>\n",
       "<style scoped>\n",
       "    .dataframe tbody tr th:only-of-type {\n",
       "        vertical-align: middle;\n",
       "    }\n",
       "\n",
       "    .dataframe tbody tr th {\n",
       "        vertical-align: top;\n",
       "    }\n",
       "\n",
       "    .dataframe thead th {\n",
       "        text-align: right;\n",
       "    }\n",
       "</style>\n",
       "<table border=\"1\" class=\"dataframe\">\n",
       "  <thead>\n",
       "    <tr style=\"text-align: right;\">\n",
       "      <th></th>\n",
       "      <th>Market Returns</th>\n",
       "      <th>Asset Returns</th>\n",
       "      <th>MRP</th>\n",
       "    </tr>\n",
       "  </thead>\n",
       "  <tbody>\n",
       "    <tr>\n",
       "      <th>1</th>\n",
       "      <td>0.000350</td>\n",
       "      <td>0.012338</td>\n",
       "      <td>0.000330</td>\n",
       "    </tr>\n",
       "    <tr>\n",
       "      <th>2</th>\n",
       "      <td>0.003120</td>\n",
       "      <td>0.008506</td>\n",
       "      <td>0.003100</td>\n",
       "    </tr>\n",
       "    <tr>\n",
       "      <th>3</th>\n",
       "      <td>0.000697</td>\n",
       "      <td>-0.005413</td>\n",
       "      <td>0.000677</td>\n",
       "    </tr>\n",
       "    <tr>\n",
       "      <th>4</th>\n",
       "      <td>-0.000701</td>\n",
       "      <td>0.002405</td>\n",
       "      <td>-0.000721</td>\n",
       "    </tr>\n",
       "    <tr>\n",
       "      <th>5</th>\n",
       "      <td>0.000530</td>\n",
       "      <td>0.047222</td>\n",
       "      <td>0.000510</td>\n",
       "    </tr>\n",
       "  </tbody>\n",
       "</table>\n",
       "</div>"
      ],
      "text/plain": [
       "   Market Returns  Asset Returns       MRP\n",
       "1        0.000350       0.012338  0.000330\n",
       "2        0.003120       0.008506  0.003100\n",
       "3        0.000697      -0.005413  0.000677\n",
       "4       -0.000701       0.002405 -0.000721\n",
       "5        0.000530       0.047222  0.000510"
      ]
     },
     "execution_count": 8,
     "metadata": {},
     "output_type": "execute_result"
    }
   ],
   "source": [
    "returns = returns.dropna()\n",
    "returns.head()"
   ]
  },
  {
   "cell_type": "code",
   "execution_count": 9,
   "metadata": {},
   "outputs": [
    {
     "data": {
      "text/html": [
       "<table class=\"simpletable\">\n",
       "<caption>OLS Regression Results</caption>\n",
       "<tr>\n",
       "  <th>Dep. Variable:</th>      <td>Asset Returns</td>  <th>  R-squared:         </th> <td>   0.183</td>\n",
       "</tr>\n",
       "<tr>\n",
       "  <th>Model:</th>                   <td>OLS</td>       <th>  Adj. R-squared:    </th> <td>   0.182</td>\n",
       "</tr>\n",
       "<tr>\n",
       "  <th>Method:</th>             <td>Least Squares</td>  <th>  F-statistic:       </th> <td>   280.6</td>\n",
       "</tr>\n",
       "<tr>\n",
       "  <th>Date:</th>             <td>Thu, 26 Sep 2024</td> <th>  Prob (F-statistic):</th> <td>5.38e-57</td>\n",
       "</tr>\n",
       "<tr>\n",
       "  <th>Time:</th>                 <td>16:06:33</td>     <th>  Log-Likelihood:    </th> <td>  3854.8</td>\n",
       "</tr>\n",
       "<tr>\n",
       "  <th>No. Observations:</th>      <td>  1257</td>      <th>  AIC:               </th> <td>  -7706.</td>\n",
       "</tr>\n",
       "<tr>\n",
       "  <th>Df Residuals:</th>          <td>  1255</td>      <th>  BIC:               </th> <td>  -7695.</td>\n",
       "</tr>\n",
       "<tr>\n",
       "  <th>Df Model:</th>              <td>     1</td>      <th>                     </th>     <td> </td>   \n",
       "</tr>\n",
       "<tr>\n",
       "  <th>Covariance Type:</th>      <td>nonrobust</td>    <th>                     </th>     <td> </td>   \n",
       "</tr>\n",
       "</table>\n",
       "<table class=\"simpletable\">\n",
       "<tr>\n",
       "    <td></td>       <th>coef</th>     <th>std err</th>      <th>t</th>      <th>P>|t|</th>  <th>[0.025</th>    <th>0.975]</th>  \n",
       "</tr>\n",
       "<tr>\n",
       "  <th>const</th> <td>    0.0003</td> <td>    0.000</td> <td>    0.938</td> <td> 0.348</td> <td>   -0.000</td> <td>    0.001</td>\n",
       "</tr>\n",
       "<tr>\n",
       "  <th>MRP</th>   <td>    0.6248</td> <td>    0.037</td> <td>   16.751</td> <td> 0.000</td> <td>    0.552</td> <td>    0.698</td>\n",
       "</tr>\n",
       "</table>\n",
       "<table class=\"simpletable\">\n",
       "<tr>\n",
       "  <th>Omnibus:</th>       <td>383.484</td> <th>  Durbin-Watson:     </th> <td>   2.046</td> \n",
       "</tr>\n",
       "<tr>\n",
       "  <th>Prob(Omnibus):</th> <td> 0.000</td>  <th>  Jarque-Bera (JB):  </th> <td>26747.784</td>\n",
       "</tr>\n",
       "<tr>\n",
       "  <th>Skew:</th>          <td> 0.480</td>  <th>  Prob(JB):          </th> <td>    0.00</td> \n",
       "</tr>\n",
       "<tr>\n",
       "  <th>Kurtosis:</th>      <td>25.578</td>  <th>  Cond. No.          </th> <td>    117.</td> \n",
       "</tr>\n",
       "</table><br/><br/>Notes:<br/>[1] Standard Errors assume that the covariance matrix of the errors is correctly specified."
      ],
      "text/latex": [
       "\\begin{center}\n",
       "\\begin{tabular}{lclc}\n",
       "\\toprule\n",
       "\\textbf{Dep. Variable:}    &  Asset Returns   & \\textbf{  R-squared:         } &     0.183   \\\\\n",
       "\\textbf{Model:}            &       OLS        & \\textbf{  Adj. R-squared:    } &     0.182   \\\\\n",
       "\\textbf{Method:}           &  Least Squares   & \\textbf{  F-statistic:       } &     280.6   \\\\\n",
       "\\textbf{Date:}             & Thu, 26 Sep 2024 & \\textbf{  Prob (F-statistic):} &  5.38e-57   \\\\\n",
       "\\textbf{Time:}             &     16:06:33     & \\textbf{  Log-Likelihood:    } &    3854.8   \\\\\n",
       "\\textbf{No. Observations:} &        1257      & \\textbf{  AIC:               } &    -7706.   \\\\\n",
       "\\textbf{Df Residuals:}     &        1255      & \\textbf{  BIC:               } &    -7695.   \\\\\n",
       "\\textbf{Df Model:}         &           1      & \\textbf{                     } &             \\\\\n",
       "\\textbf{Covariance Type:}  &    nonrobust     & \\textbf{                     } &             \\\\\n",
       "\\bottomrule\n",
       "\\end{tabular}\n",
       "\\begin{tabular}{lcccccc}\n",
       "               & \\textbf{coef} & \\textbf{std err} & \\textbf{t} & \\textbf{P$> |$t$|$} & \\textbf{[0.025} & \\textbf{0.975]}  \\\\\n",
       "\\midrule\n",
       "\\textbf{const} &       0.0003  &        0.000     &     0.938  &         0.348        &       -0.000    &        0.001     \\\\\n",
       "\\textbf{MRP}   &       0.6248  &        0.037     &    16.751  &         0.000        &        0.552    &        0.698     \\\\\n",
       "\\bottomrule\n",
       "\\end{tabular}\n",
       "\\begin{tabular}{lclc}\n",
       "\\textbf{Omnibus:}       & 383.484 & \\textbf{  Durbin-Watson:     } &     2.046  \\\\\n",
       "\\textbf{Prob(Omnibus):} &   0.000 & \\textbf{  Jarque-Bera (JB):  } & 26747.784  \\\\\n",
       "\\textbf{Skew:}          &   0.480 & \\textbf{  Prob(JB):          } &      0.00  \\\\\n",
       "\\textbf{Kurtosis:}      &  25.578 & \\textbf{  Cond. No.          } &      117.  \\\\\n",
       "\\bottomrule\n",
       "\\end{tabular}\n",
       "%\\caption{OLS Regression Results}\n",
       "\\end{center}\n",
       "\n",
       "Notes: \\newline\n",
       " [1] Standard Errors assume that the covariance matrix of the errors is correctly specified."
      ],
      "text/plain": [
       "<class 'statsmodels.iolib.summary.Summary'>\n",
       "\"\"\"\n",
       "                            OLS Regression Results                            \n",
       "==============================================================================\n",
       "Dep. Variable:          Asset Returns   R-squared:                       0.183\n",
       "Model:                            OLS   Adj. R-squared:                  0.182\n",
       "Method:                 Least Squares   F-statistic:                     280.6\n",
       "Date:                Thu, 26 Sep 2024   Prob (F-statistic):           5.38e-57\n",
       "Time:                        16:06:33   Log-Likelihood:                 3854.8\n",
       "No. Observations:                1257   AIC:                            -7706.\n",
       "Df Residuals:                    1255   BIC:                            -7695.\n",
       "Df Model:                           1                                         \n",
       "Covariance Type:            nonrobust                                         \n",
       "==============================================================================\n",
       "                 coef    std err          t      P>|t|      [0.025      0.975]\n",
       "------------------------------------------------------------------------------\n",
       "const          0.0003      0.000      0.938      0.348      -0.000       0.001\n",
       "MRP            0.6248      0.037     16.751      0.000       0.552       0.698\n",
       "==============================================================================\n",
       "Omnibus:                      383.484   Durbin-Watson:                   2.046\n",
       "Prob(Omnibus):                  0.000   Jarque-Bera (JB):            26747.784\n",
       "Skew:                           0.480   Prob(JB):                         0.00\n",
       "Kurtosis:                      25.578   Cond. No.                         117.\n",
       "==============================================================================\n",
       "\n",
       "Notes:\n",
       "[1] Standard Errors assume that the covariance matrix of the errors is correctly specified.\n",
       "\"\"\""
      ]
     },
     "execution_count": 9,
     "metadata": {},
     "output_type": "execute_result"
    }
   ],
   "source": [
    "import statsmodels.api as sm\n",
    "X = sm.add_constant(returns['MRP'])\n",
    "y = returns['Asset Returns']\n",
    "\n",
    "model = sm.OLS(y, X)\n",
    "results = model.fit()\n",
    "results.summary()"
   ]
  },
  {
   "cell_type": "code",
   "execution_count": 10,
   "metadata": {},
   "outputs": [
    {
     "data": {
      "text/plain": [
       "0.624832446531551"
      ]
     },
     "execution_count": 10,
     "metadata": {},
     "output_type": "execute_result"
    }
   ],
   "source": [
    "beta = results.params['MRP']\n",
    "beta"
   ]
  },
  {
   "cell_type": "markdown",
   "metadata": {},
   "source": [
    "## Estimating Market Return "
   ]
  },
  {
   "cell_type": "code",
   "execution_count": 11,
   "metadata": {},
   "outputs": [
    {
     "name": "stdout",
     "output_type": "stream",
     "text": [
      "0.0003662986652878659\n"
     ]
    }
   ],
   "source": [
    "market_return = returns['Market Returns'].mean()\n",
    "print(market_return)"
   ]
  },
  {
   "cell_type": "code",
   "execution_count": 12,
   "metadata": {},
   "outputs": [
    {
     "name": "stdout",
     "output_type": "stream",
     "text": [
      "The cost of equity is 5.96%.\n"
     ]
    }
   ],
   "source": [
    "capm = risk_free + beta * (market_return - risk_free)\n",
    "cost_of_equity = capm * 252 #we multiply by 252 to get the yearly CAPM \n",
    "print(f'The cost of equity is {cost_of_equity:.2%}.')"
   ]
  },
  {
   "cell_type": "markdown",
   "metadata": {},
   "source": [
    "## Estimating Market value of equity "
   ]
  },
  {
   "cell_type": "code",
   "execution_count": 13,
   "metadata": {},
   "outputs": [
    {
     "name": "stdout",
     "output_type": "stream",
     "text": [
      "The market value of equity is 340,603,500,000.00.\n"
     ]
    }
   ],
   "source": [
    "mv_of_equity = data.price * data.shares_outstanding \n",
    "print (f'The market value of equity is {mv_of_equity:,.2f}.')"
   ]
  },
  {
   "cell_type": "markdown",
   "metadata": {},
   "source": [
    "## Estimating Cost of debt "
   ]
  },
  {
   "cell_type": "code",
   "execution_count": 14,
   "metadata": {},
   "outputs": [],
   "source": [
    "import numpy_financial as npf\n",
    "import pandas as pd "
   ]
  },
  {
   "cell_type": "code",
   "execution_count": 15,
   "metadata": {},
   "outputs": [],
   "source": [
    "coupon = data.bond_coupon\n",
    "price = data.bond_price \n",
    "n = data.bond_years\n",
    "face_value = data.bond_par\n",
    "\n"
   ]
  },
  {
   "cell_type": "code",
   "execution_count": 16,
   "metadata": {},
   "outputs": [
    {
     "data": {
      "text/plain": [
       "5.25"
      ]
     },
     "execution_count": 16,
     "metadata": {},
     "output_type": "execute_result"
    }
   ],
   "source": [
    "payment = face_value * coupon \n",
    "payment"
   ]
  },
  {
   "cell_type": "code",
   "execution_count": 17,
   "metadata": {},
   "outputs": [
    {
     "data": {
      "text/plain": [
       "0.027369148593484927"
      ]
     },
     "execution_count": 17,
     "metadata": {},
     "output_type": "execute_result"
    }
   ],
   "source": [
    "pre_taxcod = npf.rate(n,payment,-price,face_value)\n",
    "pre_taxcod"
   ]
  },
  {
   "cell_type": "code",
   "execution_count": 18,
   "metadata": {},
   "outputs": [],
   "source": [
    "bsdf = pd.read_excel('WMT Balance Sheet.xlsx', index_col=0)\n",
    "isdf = pd.read_excel('WMT Income Statement.xlsx',index_col = 0)\n",
    "date = isdf[pd.to_datetime('2019-07-31')]\n",
    "date2= bsdf[pd.to_datetime('2019-07-31')]"
   ]
  },
  {
   "cell_type": "code",
   "execution_count": 19,
   "metadata": {},
   "outputs": [
    {
     "data": {
      "text/plain": [
       "1233000000.0"
      ]
     },
     "execution_count": 19,
     "metadata": {},
     "output_type": "execute_result"
    }
   ],
   "source": [
    "tax_paid= date ['Income Tax Expense']\n",
    "tax_paid"
   ]
  },
  {
   "cell_type": "code",
   "execution_count": 2,
   "metadata": {},
   "outputs": [
    {
     "ename": "NameError",
     "evalue": "name 'date' is not defined",
     "output_type": "error",
     "traceback": [
      "\u001b[1;31m---------------------------------------------------------------------------\u001b[0m",
      "\u001b[1;31mNameError\u001b[0m                                 Traceback (most recent call last)",
      "Cell \u001b[1;32mIn[2], line 1\u001b[0m\n\u001b[1;32m----> 1\u001b[0m ebt \u001b[38;5;241m=\u001b[39m date[\u001b[38;5;124m'\u001b[39m\u001b[38;5;124mEarnings before Tax\u001b[39m\u001b[38;5;124m'\u001b[39m]\n\u001b[0;32m      2\u001b[0m ebt\n",
      "\u001b[1;31mNameError\u001b[0m: name 'date' is not defined"
     ]
    }
   ],
   "source": [
    "ebt = date['Earnings before Tax']\n",
    "ebt"
   ]
  },
  {
   "cell_type": "code",
   "execution_count": 21,
   "metadata": {},
   "outputs": [
    {
     "data": {
      "text/plain": [
       "0.25459425975634936"
      ]
     },
     "execution_count": 21,
     "metadata": {},
     "output_type": "execute_result"
    }
   ],
   "source": [
    "tax_rate = tax_paid / ebt\n",
    "tax_rate "
   ]
  },
  {
   "cell_type": "code",
   "execution_count": 22,
   "metadata": {},
   "outputs": [
    {
     "data": {
      "text/plain": [
       "0.020401120467165103"
      ]
     },
     "execution_count": 22,
     "metadata": {},
     "output_type": "execute_result"
    }
   ],
   "source": [
    "aftertax_cod = pre_taxcod * (1-tax_rate)\n",
    "aftertax_cod     "
   ]
  },
  {
   "cell_type": "code",
   "execution_count": 23,
   "metadata": {},
   "outputs": [
    {
     "name": "stdout",
     "output_type": "stream",
     "text": [
      "The pre-tax cost of debt is 2.74%, the after-tax cost is 2.04%\n"
     ]
    }
   ],
   "source": [
    "print(f'The pre-tax cost of debt is {pre_taxcod:.2%}, the after-tax cost is {aftertax_cod:.2%}')"
   ]
  },
  {
   "cell_type": "markdown",
   "metadata": {},
   "source": [
    "## Estimating Market value of debt"
   ]
  },
  {
   "cell_type": "code",
   "execution_count": 24,
   "metadata": {},
   "outputs": [
    {
     "name": "stdout",
     "output_type": "stream",
     "text": [
      "Requirement already satisfied: openpyxl in c:\\users\\tcham\\anaconda3.1\\lib\\site-packages (3.1.5)\n",
      "Requirement already satisfied: et-xmlfile in c:\\users\\tcham\\anaconda3.1\\lib\\site-packages (from openpyxl) (1.1.0)\n"
     ]
    }
   ],
   "source": [
    "!pip install --upgrade openpyxl\n",
    "\n"
   ]
  },
  {
   "cell_type": "code",
   "execution_count": 25,
   "metadata": {},
   "outputs": [],
   "source": [
    "mv_of_debt = 82700000000"
   ]
  },
  {
   "cell_type": "markdown",
   "metadata": {},
   "source": [
    "## Weight Of Equity and debt"
   ]
  },
  {
   "cell_type": "code",
   "execution_count": 26,
   "metadata": {},
   "outputs": [
    {
     "data": {
      "text/plain": [
       "82700000000"
      ]
     },
     "execution_count": 26,
     "metadata": {},
     "output_type": "execute_result"
    }
   ],
   "source": [
    "mv_of_debt"
   ]
  },
  {
   "cell_type": "code",
   "execution_count": 27,
   "metadata": {},
   "outputs": [
    {
     "name": "stdout",
     "output_type": "stream",
     "text": [
      "0.19536809877546488 0.8046319012245351\n"
     ]
    }
   ],
   "source": [
    "sum_of_weights = mv_of_equity + mv_of_debt\n",
    "weight_of_equity = mv_of_equity / sum_of_weights\n",
    "weight_of_debt = mv_of_debt / sum_of_weights \n",
    "\n",
    "print(weight_of_debt,weight_of_equity)"
   ]
  },
  {
   "cell_type": "code",
   "execution_count": 28,
   "metadata": {},
   "outputs": [
    {
     "data": {
      "text/plain": [
       "0.05190349792307415"
      ]
     },
     "execution_count": 28,
     "metadata": {},
     "output_type": "execute_result"
    }
   ],
   "source": [
    "equity=weight_of_equity*cost_of_equity\n",
    "debt=aftertax_cod*weight_of_debt\n",
    "weighted_av = equity + debt\n",
    "\n",
    "weighted_av"
   ]
  },
  {
   "cell_type": "markdown",
   "metadata": {},
   "source": [
    "## Main answer for baseline case:\n",
    "coe=5.96%\n",
    "mv_equity = 340,603,500,000.00\n",
    "pretax_cost_of_debt = 2.74%\n",
    "aftertax_cost_of_debt = 2.04%\n",
    "mv_debt = 82,700,000,000\n",
    "wacc = 5.19%\n"
   ]
  },
  {
   "cell_type": "markdown",
   "metadata": {},
   "source": [
    "# Monte carlo simulation on wacc"
   ]
  },
  {
   "cell_type": "markdown",
   "metadata": {},
   "source": [
    "A Monte Carlo simulation is a way to model the probability of different outcomes in a process that cannot easily be predicted due to the intervention of random variables. "
   ]
  },
  {
   "cell_type": "code",
   "execution_count": 33,
   "metadata": {},
   "outputs": [
    {
     "data": {
      "text/plain": [
       "count    10000.000000\n",
       "mean         0.095455\n",
       "std          0.030658\n",
       "min         -0.025286\n",
       "25%          0.074640\n",
       "50%          0.094001\n",
       "75%          0.114502\n",
       "max          0.248597\n",
       "Name: WACC, dtype: float64"
      ]
     },
     "execution_count": 33,
     "metadata": {},
     "output_type": "execute_result"
    }
   ],
   "source": [
    "import numpy as np\n",
    "import pandas as pd\n",
    "\n",
    "# Define the SimulationInputs object\n",
    "sim_inputs = SimulationInputs()\n",
    "\n",
    "# Use sim_inputs in the Monte Carlo simulation\n",
    "iterations = sim_inputs.num_iter\n",
    "\n",
    "# Example means (you can adjust as necessary)\n",
    "beta_mean = 1.2\n",
    "market_return_mean = 0.08\n",
    "bond_price_mean = 100\n",
    "tax_rate_mean = 0.3\n",
    "\n",
    "# Arrays to store simulation results using the standard deviations from SimulationInputs\n",
    "simulations = {\n",
    "    'Beta': np.random.normal(beta_mean, sim_inputs.beta_std, iterations),\n",
    "    'Market Return': np.random.normal(market_return_mean, sim_inputs.mkt_ret_std, iterations),\n",
    "    'Bond Price': np.random.normal(bond_price_mean, sim_inputs.bond_price_std, iterations),\n",
    "    'Tax Rate': np.random.normal(tax_rate_mean, sim_inputs.tax_rate_std, iterations)\n",
    "}\n",
    "\n",
    "# Convert to DataFrame\n",
    "sim_df = pd.DataFrame(simulations)\n",
    "\n",
    "# Calculate WACC and other financial metrics as before\n",
    "sim_df['Cost of Equity'] = 0.05 + sim_df['Beta'] * (sim_df['Market Return'] - 0.03)  # Example CAPM formula\n",
    "sim_df['Cost of Debt'] = 0.04 + 0.01 * (sim_df['Bond Price'] / 100)\n",
    "\n",
    "# Example market value of equity and debt\n",
    "mv_equity = 340603500000  \n",
    "mv_debt = 82700000000\n",
    "total_value = mv_equity + mv_debt\n",
    "weight_of_equity = mv_equity / total_value\n",
    "weight_of_debt = mv_debt / total_value\n",
    "\n",
    "# Calculate WACC\n",
    "sim_df['WACC'] = (weight_of_equity * sim_df['Cost of Equity']) + (weight_of_debt * sim_df['Cost of Debt'] * (1 - sim_df['Tax Rate']))\n",
    "\n",
    "# Summary statistics for WACC\n",
    "wacc_summary = sim_df['WACC'].describe()\n",
    "\n",
    "# Display the results\n",
    "wacc_summary\n"
   ]
  },
  {
   "cell_type": "code",
   "execution_count": 35,
   "metadata": {},
   "outputs": [
    {
     "name": "stdout",
     "output_type": "stream",
     "text": [
      "10000 simulations were run.\n"
     ]
    }
   ],
   "source": [
    "print(f'{len(sim_df)} simulations were run.')"
   ]
  },
  {
   "cell_type": "code",
   "execution_count": 42,
   "metadata": {},
   "outputs": [
    {
     "data": {
      "text/html": [
       "<style type=\"text/css\">\n",
       "#T_a76a8_row0_col4, #T_a76a8_row0_col6, #T_a76a8_row1_col5 {\n",
       "  background-color: #3b4cc0;\n",
       "  color: #f1f1f1;\n",
       "  background-color: lightgreen;\n",
       "}\n",
       "#T_a76a8_row0_col5, #T_a76a8_row1_col4, #T_a76a8_row1_col6 {\n",
       "  background-color: #b40426;\n",
       "  color: #f1f1f1;\n",
       "  background-color: lightcoral;\n",
       "}\n",
       "#T_a76a8_row2_col4 {\n",
       "  background-color: #516ddb;\n",
       "  color: #f1f1f1;\n",
       "}\n",
       "#T_a76a8_row2_col5 {\n",
       "  background-color: #d44e41;\n",
       "  color: #f1f1f1;\n",
       "}\n",
       "#T_a76a8_row2_col6 {\n",
       "  background-color: #4a63d3;\n",
       "  color: #f1f1f1;\n",
       "}\n",
       "#T_a76a8_row3_col4 {\n",
       "  background-color: #6f92f3;\n",
       "  color: #f1f1f1;\n",
       "}\n",
       "#T_a76a8_row3_col5 {\n",
       "  background-color: #97b8ff;\n",
       "  color: #000000;\n",
       "}\n",
       "#T_a76a8_row3_col6 {\n",
       "  background-color: #6788ee;\n",
       "  color: #f1f1f1;\n",
       "}\n",
       "#T_a76a8_row4_col4, #T_a76a8_row4_col6 {\n",
       "  background-color: #f7ba9f;\n",
       "  color: #000000;\n",
       "}\n",
       "#T_a76a8_row4_col5 {\n",
       "  background-color: #aac7fd;\n",
       "  color: #000000;\n",
       "}\n",
       "</style>\n",
       "<table id=\"T_a76a8\">\n",
       "  <thead>\n",
       "    <tr>\n",
       "      <th class=\"blank level0\" >&nbsp;</th>\n",
       "      <th id=\"T_a76a8_level0_col0\" class=\"col_heading level0 col0\" >Beta</th>\n",
       "      <th id=\"T_a76a8_level0_col1\" class=\"col_heading level0 col1\" >Market Return</th>\n",
       "      <th id=\"T_a76a8_level0_col2\" class=\"col_heading level0 col2\" >Bond Price</th>\n",
       "      <th id=\"T_a76a8_level0_col3\" class=\"col_heading level0 col3\" >Tax Rate</th>\n",
       "      <th id=\"T_a76a8_level0_col4\" class=\"col_heading level0 col4\" >Cost of Equity</th>\n",
       "      <th id=\"T_a76a8_level0_col5\" class=\"col_heading level0 col5\" >Cost of Debt</th>\n",
       "      <th id=\"T_a76a8_level0_col6\" class=\"col_heading level0 col6\" >WACC</th>\n",
       "    </tr>\n",
       "  </thead>\n",
       "  <tbody>\n",
       "    <tr>\n",
       "      <th id=\"T_a76a8_level0_row0\" class=\"row_heading level0 row0\" >0</th>\n",
       "      <td id=\"T_a76a8_row0_col0\" class=\"data row0 col0\" >0.947572</td>\n",
       "      <td id=\"T_a76a8_row0_col1\" class=\"data row0 col1\" >0.039940</td>\n",
       "      <td id=\"T_a76a8_row0_col2\" class=\"data row0 col2\" >150.050732</td>\n",
       "      <td id=\"T_a76a8_row0_col3\" class=\"data row0 col3\" >0.213073</td>\n",
       "      <td id=\"T_a76a8_row0_col4\" class=\"data row0 col4\" >0.059419</td>\n",
       "      <td id=\"T_a76a8_row0_col5\" class=\"data row0 col5\" >0.055005</td>\n",
       "      <td id=\"T_a76a8_row0_col6\" class=\"data row0 col6\" >0.056267</td>\n",
       "    </tr>\n",
       "    <tr>\n",
       "      <th id=\"T_a76a8_level0_row1\" class=\"row_heading level0 row1\" >1</th>\n",
       "      <td id=\"T_a76a8_row1_col0\" class=\"data row1 col0\" >1.185301</td>\n",
       "      <td id=\"T_a76a8_row1_col1\" class=\"data row1 col1\" >0.105628</td>\n",
       "      <td id=\"T_a76a8_row1_col2\" class=\"data row1 col2\" >37.131114</td>\n",
       "      <td id=\"T_a76a8_row1_col3\" class=\"data row1 col3\" >0.344244</td>\n",
       "      <td id=\"T_a76a8_row1_col4\" class=\"data row1 col4\" >0.139642</td>\n",
       "      <td id=\"T_a76a8_row1_col5\" class=\"data row1 col5\" >0.043713</td>\n",
       "      <td id=\"T_a76a8_row1_col6\" class=\"data row1 col6\" >0.117960</td>\n",
       "    </tr>\n",
       "    <tr>\n",
       "      <th id=\"T_a76a8_level0_row2\" class=\"row_heading level0 row2\" >2</th>\n",
       "      <td id=\"T_a76a8_row2_col0\" class=\"data row2 col0\" >1.118951</td>\n",
       "      <td id=\"T_a76a8_row2_col1\" class=\"data row2 col1\" >0.043761</td>\n",
       "      <td id=\"T_a76a8_row2_col2\" class=\"data row2 col2\" >139.542086</td>\n",
       "      <td id=\"T_a76a8_row2_col3\" class=\"data row2 col3\" >0.338229</td>\n",
       "      <td id=\"T_a76a8_row2_col4\" class=\"data row2 col4\" >0.065398</td>\n",
       "      <td id=\"T_a76a8_row2_col5\" class=\"data row2 col5\" >0.053954</td>\n",
       "      <td id=\"T_a76a8_row2_col6\" class=\"data row2 col6\" >0.059597</td>\n",
       "    </tr>\n",
       "    <tr>\n",
       "      <th id=\"T_a76a8_level0_row3\" class=\"row_heading level0 row3\" >3</th>\n",
       "      <td id=\"T_a76a8_row3_col0\" class=\"data row3 col0\" >0.951545</td>\n",
       "      <td id=\"T_a76a8_row3_col1\" class=\"data row3 col1\" >0.053755</td>\n",
       "      <td id=\"T_a76a8_row3_col2\" class=\"data row3 col2\" >68.490924</td>\n",
       "      <td id=\"T_a76a8_row3_col3\" class=\"data row3 col3\" >0.285638</td>\n",
       "      <td id=\"T_a76a8_row3_col4\" class=\"data row3 col4\" >0.072604</td>\n",
       "      <td id=\"T_a76a8_row3_col5\" class=\"data row3 col5\" >0.046849</td>\n",
       "      <td id=\"T_a76a8_row3_col6\" class=\"data row3 col6\" >0.064958</td>\n",
       "    </tr>\n",
       "    <tr>\n",
       "      <th id=\"T_a76a8_level0_row4\" class=\"row_heading level0 row4\" >4</th>\n",
       "      <td id=\"T_a76a8_row4_col0\" class=\"data row4 col0\" >1.203773</td>\n",
       "      <td id=\"T_a76a8_row4_col1\" class=\"data row4 col1\" >0.081564</td>\n",
       "      <td id=\"T_a76a8_row4_col2\" class=\"data row4 col2\" >74.820435</td>\n",
       "      <td id=\"T_a76a8_row4_col3\" class=\"data row4 col3\" >0.268352</td>\n",
       "      <td id=\"T_a76a8_row4_col4\" class=\"data row4 col4\" >0.112071</td>\n",
       "      <td id=\"T_a76a8_row4_col5\" class=\"data row4 col5\" >0.047482</td>\n",
       "      <td id=\"T_a76a8_row4_col6\" class=\"data row4 col6\" >0.096963</td>\n",
       "    </tr>\n",
       "  </tbody>\n",
       "</table>\n"
      ],
      "text/plain": [
       "<pandas.io.formats.style.Styler at 0x17a9b66d250>"
      ]
     },
     "execution_count": 42,
     "metadata": {},
     "output_type": "execute_result"
    }
   ],
   "source": [
    "styled_sim_df = sim_df.head().style\\\n",
    "    .background_gradient(cmap=\"coolwarm\", subset=['WACC', 'Cost of Equity', 'Cost of Debt'])\\\n",
    "    .highlight_min(color='lightgreen', subset=['WACC', 'Cost of Equity', 'Cost of Debt'])\\\n",
    "    .highlight_max(color='lightcoral', subset=['WACC', 'Cost of Equity', 'Cost of Debt'])\n",
    "\n",
    "# Display the styled DataFrame (works in a Jupyter notebook)\n",
    "styled_sim_df"
   ]
  },
  {
   "cell_type": "code",
   "execution_count": null,
   "metadata": {},
   "outputs": [],
   "source": []
  }
 ],
 "metadata": {
  "kernelspec": {
   "display_name": "Python 3 (ipykernel)",
   "language": "python",
   "name": "python3"
  },
  "language_info": {
   "codemirror_mode": {
    "name": "ipython",
    "version": 3
   },
   "file_extension": ".py",
   "mimetype": "text/x-python",
   "name": "python",
   "nbconvert_exporter": "python",
   "pygments_lexer": "ipython3",
   "version": "3.11.7"
  }
 },
 "nbformat": 4,
 "nbformat_minor": 4
}
